{
 "cells": [
  {
   "cell_type": "markdown",
   "id": "650940f2",
   "metadata": {},
   "source": [
    "# PyTorch: Learn the Basics"
   ]
  },
  {
   "cell_type": "code",
   "execution_count": 2,
   "id": "a9be4105",
   "metadata": {},
   "outputs": [],
   "source": [
    "import torch\n",
    "from torch import nn\n",
    "from torch.utils.data import DataLoader\n",
    "from torchvision import datasets\n",
    "from torchvision.transforms import ToTensor"
   ]
  },
  {
   "cell_type": "code",
   "execution_count": 5,
   "id": "82c11e5a",
   "metadata": {},
   "outputs": [],
   "source": [
    "import torch\n",
    "import torch.nn as nn\n",
    "\n",
    "class SimpleRNN(nn.Module):\n",
    "    def __init__(self, input_size, hidden_size, output_size, num_layers=1):\n",
    "        \"\"\"\n",
    "        Initializes the SimpleRNN model.\n",
    "\n",
    "        Args:\n",
    "            input_size (int): The number of expected features in the input `x`.\n",
    "                              For word embeddings, this would be the embedding dimension.\n",
    "            hidden_size (int): The number of features in the hidden state `h`.\n",
    "            output_size (int): The size of the output layer (e.g., number of classes for classification).\n",
    "            num_layers (int, optional): Number of recurrent layers. Defaults to 1.\n",
    "        \"\"\"\n",
    "        super(SimpleRNN, self).__init__()\n",
    "\n",
    "        self.hidden_size = hidden_size\n",
    "        self.num_layers = num_layers\n",
    "\n",
    "        # Define the RNN layer\n",
    "        # batch_first=True means input/output tensors are (batch, seq, feature)\n",
    "        self.rnn = nn.RNN(input_size, hidden_size, num_layers, batch_first=True)\n",
    "\n",
    "        # Define a linear layer to map the RNN's output to the desired output_size\n",
    "        self.fc = nn.Linear(hidden_size, output_size)\n",
    "\n",
    "    def forward(self, x):\n",
    "        \"\"\"\n",
    "        Defines the forward pass of the RNN model.\n",
    "\n",
    "        Args:\n",
    "            x (torch.Tensor): Input tensor of shape (batch_size, sequence_length, input_size).\n",
    "\n",
    "        Returns:\n",
    "            torch.Tensor: Output tensor of shape (batch_size, output_size).\n",
    "        \"\"\"\n",
    "        # Initialize hidden state with zeros\n",
    "        # The hidden state tensor has shape (num_layers * num_directions, batch_size, hidden_size)\n",
    "        # For a simple RNN, num_directions is 1.\n",
    "        h0 = torch.zeros(self.num_layers, x.size(0), self.hidden_size).to(x.device)\n",
    "\n",
    "        # Pass input through the RNN layer\n",
    "        # output: (batch_size, sequence_length, hidden_size * num_directions)\n",
    "        # hn: (num_layers * num_directions, batch_size, hidden_size)\n",
    "        output, hn = self.rnn(x, h0)\n",
    "\n",
    "        # We are interested in the output of the last time step for classification/prediction.\n",
    "        # In batch_first=True mode, output[:, -1, :] gives the last time step's output for all batches.\n",
    "        # This is equivalent to hn[-1, :, :] if num_layers = 1 and it's a simple RNN.\n",
    "        # For multi-layered RNNs, hn[-1] is the final hidden state of the last layer.\n",
    "        final_output = self.fc(output[:, -1, :]) # Taking the output of the last time step\n",
    "\n",
    "        return final_output"
   ]
  },
  {
   "cell_type": "code",
   "execution_count": null,
   "id": "473f0bc2",
   "metadata": {},
   "outputs": [],
   "source": []
  },
  {
   "cell_type": "code",
   "execution_count": null,
   "id": "bef40bef",
   "metadata": {},
   "outputs": [],
   "source": []
  },
  {
   "cell_type": "code",
   "execution_count": null,
   "id": "632d7176",
   "metadata": {},
   "outputs": [],
   "source": []
  },
  {
   "cell_type": "code",
   "execution_count": 4,
   "id": "a1777747",
   "metadata": {},
   "outputs": [
    {
     "name": "stdout",
     "output_type": "stream",
     "text": [
      "Last updated: 2025-07-28T22:57:59.989127+00:00\n",
      "\n",
      "Python implementation: CPython\n",
      "Python version       : 3.12.11\n",
      "IPython version      : 9.4.0\n",
      "\n",
      "Compiler    : GCC 12.2.0\n",
      "OS          : Linux\n",
      "Release     : 6.10.14-linuxkit\n",
      "Machine     : aarch64\n",
      "Processor   : \n",
      "CPU cores   : 7\n",
      "Architecture: 64bit\n",
      "\n"
     ]
    }
   ],
   "source": [
    "%watermark"
   ]
  },
  {
   "cell_type": "code",
   "execution_count": 12,
   "id": "630df768",
   "metadata": {},
   "outputs": [
    {
     "name": "stdout",
     "output_type": "stream",
     "text": [
      "torchvision: 0.22.1\n",
      "torch      : 2.7.1\n",
      "\n"
     ]
    }
   ],
   "source": [
    "%watermark -iv"
   ]
  }
 ],
 "metadata": {
  "kernelspec": {
   "display_name": ".venv",
   "language": "python",
   "name": "python3"
  },
  "language_info": {
   "codemirror_mode": {
    "name": "ipython",
    "version": 3
   },
   "file_extension": ".py",
   "mimetype": "text/x-python",
   "name": "python",
   "nbconvert_exporter": "python",
   "pygments_lexer": "ipython3",
   "version": "3.12.11"
  }
 },
 "nbformat": 4,
 "nbformat_minor": 5
}
