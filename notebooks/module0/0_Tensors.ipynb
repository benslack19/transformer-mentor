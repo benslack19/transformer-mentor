{
 "cells": [
  {
   "cell_type": "markdown",
   "id": "650940f2",
   "metadata": {},
   "source": [
    "# PyTorch: Learn the Basics\n",
    "\n",
    "* Tensors\n",
    "* Datasets & DataLoaders\n",
    "* Transforms\n",
    "* Build Model\n",
    "* Autograd\n",
    "* Optimization\n",
    "* Save & Load Model"
   ]
  },
  {
   "cell_type": "markdown",
   "id": "b8971e40",
   "metadata": {},
   "source": [
    "# Tensors\n",
    "\n",
    "Why this instead of numpy ndarrays? Tensors can run on GPUs. They can also be optimized for automatic differentiation.\n"
   ]
  },
  {
   "cell_type": "code",
   "execution_count": 4,
   "id": "d2633f72",
   "metadata": {},
   "outputs": [],
   "source": [
    "import torch\n",
    "import numpy as np"
   ]
  },
  {
   "cell_type": "code",
   "execution_count": 5,
   "id": "0e5cbc72",
   "metadata": {},
   "outputs": [
    {
     "name": "stdout",
     "output_type": "stream",
     "text": [
      "The watermark extension is already loaded. To reload it, use:\n",
      "  %reload_ext watermark\n"
     ]
    }
   ],
   "source": [
    "%load_ext watermark"
   ]
  },
  {
   "cell_type": "markdown",
   "id": "e395f99f",
   "metadata": {},
   "source": [
    "## Initializing a tensor"
   ]
  },
  {
   "cell_type": "code",
   "execution_count": 6,
   "id": "95fced1c",
   "metadata": {},
   "outputs": [],
   "source": [
    "# directly from data\n",
    "data = [[1, 2],[3, 4]]\n",
    "x_data = torch.tensor(data)"
   ]
  },
  {
   "cell_type": "code",
   "execution_count": 7,
   "id": "c45540b3",
   "metadata": {},
   "outputs": [
    {
     "data": {
      "text/plain": [
       "torch.Tensor"
      ]
     },
     "execution_count": 7,
     "metadata": {},
     "output_type": "execute_result"
    }
   ],
   "source": [
    "type(x_data)"
   ]
  },
  {
   "cell_type": "code",
   "execution_count": 8,
   "id": "e1fee929",
   "metadata": {},
   "outputs": [],
   "source": [
    "# from a numpy array\n",
    "np_array = np.array(data)\n",
    "x_np = torch.from_numpy(np_array)"
   ]
  },
  {
   "cell_type": "code",
   "execution_count": 9,
   "id": "23c770e7",
   "metadata": {},
   "outputs": [
    {
     "name": "stdout",
     "output_type": "stream",
     "text": [
      "Ones Tensor: \n",
      " tensor([[1, 1],\n",
      "        [1, 1]]) \n",
      "\n"
     ]
    }
   ],
   "source": [
    "# creating new tensors from another tensor (e.g. maintains shape)\n",
    "x_ones = torch.ones_like(x_data) # retains the properties of x_data\n",
    "print(f\"Ones Tensor: \\n {x_ones} \\n\")\n"
   ]
  },
  {
   "cell_type": "code",
   "execution_count": 10,
   "id": "8b027526",
   "metadata": {},
   "outputs": [
    {
     "name": "stdout",
     "output_type": "stream",
     "text": [
      "Random Tensor: \n",
      " tensor([[0.7808, 0.1112],\n",
      "        [0.0457, 0.5436]]) \n",
      "\n"
     ]
    }
   ],
   "source": [
    "# a random tensor, values between 0 and 1\n",
    "x_rand = torch.rand_like(x_data, dtype=torch.float) # overrides the datatype of x_data\n",
    "print(f\"Random Tensor: \\n {x_rand} \\n\")"
   ]
  },
  {
   "cell_type": "code",
   "execution_count": 11,
   "id": "ff63bb9b",
   "metadata": {},
   "outputs": [
    {
     "name": "stdout",
     "output_type": "stream",
     "text": [
      "Zeros Tensor: \n",
      " tensor([[0., 0., 0.],\n",
      "        [0., 0., 0.]])\n",
      "Ones Tensor: \n",
      " tensor([[1., 1., 1.],\n",
      "        [1., 1., 1.]]) \n",
      "\n",
      "Random Tensor: \n",
      " tensor([[0.2606, 0.9567, 0.1587],\n",
      "        [0.6428, 0.4018, 0.4623]]) \n",
      "\n"
     ]
    }
   ],
   "source": [
    "# constant or random values\n",
    "shape = (2,3,)\n",
    "zeros_tensor = torch.zeros(shape)\n",
    "ones_tensor = torch.ones(shape)\n",
    "rand_tensor = torch.rand(shape)\n",
    "\n",
    "print(f\"Zeros Tensor: \\n {zeros_tensor}\")\n",
    "print(f\"Ones Tensor: \\n {ones_tensor} \\n\")\n",
    "print(f\"Random Tensor: \\n {rand_tensor} \\n\")\n"
   ]
  },
  {
   "cell_type": "markdown",
   "id": "afc0a926",
   "metadata": {},
   "source": [
    "## Attributes"
   ]
  },
  {
   "cell_type": "code",
   "execution_count": 12,
   "id": "f8f50f01",
   "metadata": {},
   "outputs": [
    {
     "name": "stdout",
     "output_type": "stream",
     "text": [
      "tensor([[0.8739, 0.9027, 0.8701, 0.8615],\n",
      "        [0.4273, 0.7591, 0.5939, 0.4719],\n",
      "        [0.6431, 0.4888, 0.5075, 0.9832]])\n",
      "Shape of tensor: torch.Size([3, 4])\n",
      "Datatype of tensor: torch.float32\n",
      "Device tensor is stored on: cpu\n"
     ]
    }
   ],
   "source": [
    "tensor = torch.rand(3,4)\n",
    "print(tensor)\n",
    "print(f\"Shape of tensor: {tensor.shape}\")\n",
    "print(f\"Datatype of tensor: {tensor.dtype}\")\n",
    "print(f\"Device tensor is stored on: {tensor.device}\")"
   ]
  },
  {
   "cell_type": "code",
   "execution_count": 13,
   "id": "f1c17869",
   "metadata": {},
   "outputs": [
    {
     "data": {
      "text/plain": [
       "['expand',\n",
       " 'conj',\n",
       " 'add',\n",
       " 'dsplit',\n",
       " 'renorm',\n",
       " 'sin',\n",
       " 'fix',\n",
       " 'eig',\n",
       " 'smm',\n",
       " 'exp',\n",
       " 'asinh',\n",
       " 'mH',\n",
       " 'atanh',\n",
       " 'tril',\n",
       " 'log1p',\n",
       " 'short',\n",
       " 'argmax',\n",
       " 'heaviside',\n",
       " 'solve',\n",
       " 'gcd']"
      ]
     },
     "execution_count": 13,
     "metadata": {},
     "output_type": "execute_result"
    }
   ],
   "source": [
    "# show some random attributes\n",
    "from random import sample\n",
    "sample([attribute for attribute in dir(tensor) if '_' not in attribute], 20)"
   ]
  },
  {
   "cell_type": "code",
   "execution_count": 14,
   "id": "9b479cc3",
   "metadata": {},
   "outputs": [
    {
     "data": {
      "text/plain": [
       "tensor([[1., 1., 1., 1.],\n",
       "        [0., 0., 1., 1.],\n",
       "        [1., 1., 1., 1.]])"
      ]
     },
     "execution_count": 14,
     "metadata": {},
     "output_type": "execute_result"
    }
   ],
   "source": [
    "tensor.bernoulli()"
   ]
  },
  {
   "cell_type": "markdown",
   "id": "1d2c8430",
   "metadata": {},
   "source": [
    "## Operations on Tensors\n",
    "\n",
    "While the tensors can be run on GPU, by default, they're created on the CPU. Operations can be run on CPU and an [Accelerator](https://docs.pytorch.org/docs/stable/torch.html#accelerators), a `torch.device` like [CUDA](https://docs.pytorch.org/docs/stable/cuda.html) or [MPS](https://docs.pytorch.org/docs/stable/mps.html).\n",
    "\n",
    "NOTE: To use GPU acceleration in a dev container:\n",
    "- Remote Server with NVIDIA GPU (CUDA): The most common and effective way to get GPU acceleration in a Dev Container is if your Dev Container is connected to a remote server that has an NVIDIA GPU. In this scenario, you would configure the Dev Container to expose that GPU to the container, and your code would use torch.device(\"cuda\"). This is a very popular setup for professional ML development.\n",
    "- Run locally, outside the container, to use MPS."
   ]
  },
  {
   "cell_type": "code",
   "execution_count": 15,
   "id": "94b2db1c",
   "metadata": {},
   "outputs": [
    {
     "name": "stdout",
     "output_type": "stream",
     "text": [
      "No GPU found, using CPU.\n"
     ]
    }
   ],
   "source": [
    "# Check if CUDA (NVIDIA GPU) is available\n",
    "if torch.cuda.is_available():\n",
    "    device = torch.device(\"cuda\")\n",
    "    print(f\"Using GPU: {torch.cuda.get_device_name(0)}\")\n",
    "# elif torch.mps.is_available():  # note this fails in a devcontainer run on mac because it's linux\n",
    "elif torch.backends.mps.is_available():\n",
    "    device = torch.device(\"mps\")\n",
    "    print(f\"Using MPS: {torch.mps.get_device_name(0)}\")\n",
    "else:\n",
    "    device = torch.device(\"cpu\")\n",
    "    print(\"No GPU found, using CPU.\")"
   ]
  },
  {
   "cell_type": "code",
   "execution_count": 16,
   "id": "fcb85bda",
   "metadata": {},
   "outputs": [],
   "source": [
    "# We move our tensor to the current accelerator if available\n",
    "if torch.accelerator.is_available():\n",
    "    tensor = tensor.to(torch.accelerator.current_accelerator())"
   ]
  },
  {
   "cell_type": "code",
   "execution_count": 17,
   "id": "e1783d85",
   "metadata": {},
   "outputs": [
    {
     "data": {
      "text/plain": [
       "tensor([[0.8739, 0.9027, 0.8701, 0.8615],\n",
       "        [0.4273, 0.7591, 0.5939, 0.4719],\n",
       "        [0.6431, 0.4888, 0.5075, 0.9832]])"
      ]
     },
     "execution_count": 17,
     "metadata": {},
     "output_type": "execute_result"
    }
   ],
   "source": [
    "tensor"
   ]
  },
  {
   "cell_type": "code",
   "execution_count": 18,
   "id": "89e6fe7e",
   "metadata": {},
   "outputs": [
    {
     "name": "stdout",
     "output_type": "stream",
     "text": [
      "tensor(0.4273)\n",
      "tensor([0.8701, 0.5939, 0.5075])\n"
     ]
    }
   ],
   "source": [
    "# standard indexing\n",
    "\n",
    "print(tensor[1,0])\n",
    "print(tensor[:, 2])"
   ]
  },
  {
   "cell_type": "code",
   "execution_count": 19,
   "id": "8133c41f",
   "metadata": {},
   "outputs": [
    {
     "name": "stdout",
     "output_type": "stream",
     "text": [
      "tensor([[0.8739, 0.9027, 0.8701, 0.8615, 0.8739, 0.9027, 0.8701, 0.8615, 0.8739,\n",
      "         0.9027, 0.8701, 0.8615],\n",
      "        [0.4273, 0.7591, 0.5939, 0.4719, 0.4273, 0.7591, 0.5939, 0.4719, 0.4273,\n",
      "         0.7591, 0.5939, 0.4719],\n",
      "        [0.6431, 0.4888, 0.5075, 0.9832, 0.6431, 0.4888, 0.5075, 0.9832, 0.6431,\n",
      "         0.4888, 0.5075, 0.9832]])\n"
     ]
    }
   ],
   "source": [
    "# joining tensors\n",
    "t1 = torch.cat([tensor, tensor, tensor], dim=1)\n",
    "print(t1)"
   ]
  },
  {
   "cell_type": "markdown",
   "id": "769ca7ff",
   "metadata": {},
   "source": [
    "Arithmetic operations"
   ]
  },
  {
   "cell_type": "code",
   "execution_count": 20,
   "id": "f521fa57",
   "metadata": {},
   "outputs": [
    {
     "data": {
      "text/plain": [
       "tensor([[3.0779, 1.9820, 2.2919],\n",
       "        [1.9820, 1.3342, 1.4112],\n",
       "        [2.2919, 1.4112, 1.8768]])"
      ]
     },
     "execution_count": 20,
     "metadata": {},
     "output_type": "execute_result"
    }
   ],
   "source": [
    "# matrix multiplication, 3 options\n",
    "y1 = tensor @ tensor.T\n",
    "y1"
   ]
  },
  {
   "cell_type": "code",
   "execution_count": 21,
   "id": "b7adb269",
   "metadata": {},
   "outputs": [
    {
     "data": {
      "text/plain": [
       "tensor([[3.0779, 1.9820, 2.2919],\n",
       "        [1.9820, 1.3342, 1.4112],\n",
       "        [2.2919, 1.4112, 1.8768]])"
      ]
     },
     "execution_count": 21,
     "metadata": {},
     "output_type": "execute_result"
    }
   ],
   "source": [
    "y2 = tensor.matmul(tensor.T)\n",
    "y2"
   ]
  },
  {
   "cell_type": "code",
   "execution_count": 22,
   "id": "e35a1e81",
   "metadata": {},
   "outputs": [
    {
     "data": {
      "text/plain": [
       "tensor([[0.5899, 0.3826, 0.1132],\n",
       "        [0.7363, 0.6440, 0.9003],\n",
       "        [0.6095, 0.0242, 0.0951]])"
      ]
     },
     "execution_count": 22,
     "metadata": {},
     "output_type": "execute_result"
    }
   ],
   "source": [
    "# randomize in the shape of y1\n",
    "y3 = torch.rand_like(y1)\n",
    "y3"
   ]
  },
  {
   "cell_type": "code",
   "execution_count": 23,
   "id": "6317493e",
   "metadata": {},
   "outputs": [
    {
     "data": {
      "text/plain": [
       "tensor([[3.0779, 1.9820, 2.2919],\n",
       "        [1.9820, 1.3342, 1.4112],\n",
       "        [2.2919, 1.4112, 1.8768]])"
      ]
     },
     "execution_count": 23,
     "metadata": {},
     "output_type": "execute_result"
    }
   ],
   "source": [
    "# note the `out`\n",
    "torch.matmul(tensor, tensor.T, out=y3)"
   ]
  },
  {
   "cell_type": "code",
   "execution_count": 24,
   "id": "2ff9385a",
   "metadata": {},
   "outputs": [
    {
     "data": {
      "text/plain": [
       "tensor([[3.0779, 1.9820, 2.2919],\n",
       "        [1.9820, 1.3342, 1.4112],\n",
       "        [2.2919, 1.4112, 1.8768]])"
      ]
     },
     "execution_count": 24,
     "metadata": {},
     "output_type": "execute_result"
    }
   ],
   "source": [
    "# y3 gets overwritten\n",
    "y3"
   ]
  },
  {
   "cell_type": "code",
   "execution_count": 25,
   "id": "97bf3791",
   "metadata": {},
   "outputs": [
    {
     "data": {
      "text/plain": [
       "True"
      ]
     },
     "execution_count": 25,
     "metadata": {},
     "output_type": "execute_result"
    }
   ],
   "source": [
    "# y1 == y2  # will fail\n",
    "\n",
    "# test for content and shape\n",
    "torch.equal(y1, y2)"
   ]
  },
  {
   "cell_type": "code",
   "execution_count": 26,
   "id": "b5393e8b",
   "metadata": {},
   "outputs": [
    {
     "data": {
      "text/plain": [
       "tensor(True)"
      ]
     },
     "execution_count": 26,
     "metadata": {},
     "output_type": "execute_result"
    }
   ],
   "source": [
    "# == element wise comparison\n",
    "torch.all(y1 == y2) # analagous to np.all"
   ]
  },
  {
   "cell_type": "code",
   "execution_count": 27,
   "id": "823fbb70",
   "metadata": {},
   "outputs": [],
   "source": [
    "# test if all 3 are equal\n",
    "assert torch.equal(y1, y2) and torch.equal(y2, y3)"
   ]
  },
  {
   "cell_type": "code",
   "execution_count": 28,
   "id": "647f9e68",
   "metadata": {},
   "outputs": [
    {
     "data": {
      "text/plain": [
       "tensor([[0.7638, 0.8149, 0.7570, 0.7422],\n",
       "        [0.1826, 0.5763, 0.3527, 0.2226],\n",
       "        [0.4135, 0.2390, 0.2575, 0.9667]])"
      ]
     },
     "execution_count": 28,
     "metadata": {},
     "output_type": "execute_result"
    }
   ],
   "source": [
    "# Element-wise product, also 3 options\n",
    "z1 = tensor * tensor\n",
    "z2 = tensor.mul(tensor)\n",
    "\n",
    "z3 = torch.rand_like(tensor)\n",
    "torch.mul(tensor, tensor, out=z3)"
   ]
  },
  {
   "cell_type": "code",
   "execution_count": 29,
   "id": "c0966b3b",
   "metadata": {},
   "outputs": [],
   "source": [
    "assert torch.equal(z1, z2) and torch.equal(z2, z3)"
   ]
  },
  {
   "cell_type": "code",
   "execution_count": 30,
   "id": "cd8612f9",
   "metadata": {},
   "outputs": [
    {
     "data": {
      "text/plain": [
       "tensor(8.3830)"
      ]
     },
     "execution_count": 30,
     "metadata": {},
     "output_type": "execute_result"
    }
   ],
   "source": [
    "# convert a single element tensor into a python numerical value\n",
    "tensor.sum()"
   ]
  },
  {
   "cell_type": "code",
   "execution_count": 31,
   "id": "6a51bb4c",
   "metadata": {},
   "outputs": [
    {
     "name": "stdout",
     "output_type": "stream",
     "text": [
      "8.383039474487305 <class 'float'>\n"
     ]
    }
   ],
   "source": [
    "print(tensor.sum().item(), type(tensor.sum().item()))"
   ]
  },
  {
   "cell_type": "markdown",
   "id": "81c0ce8c",
   "metadata": {},
   "source": [
    "## Bridge with NumPy\n",
    "\n",
    "Move to/from numpy array with `.numpy()` and `torch.from_numpy(x)`"
   ]
  },
  {
   "cell_type": "code",
   "execution_count": 32,
   "id": "579cd5b0",
   "metadata": {},
   "outputs": [
    {
     "data": {
      "text/plain": [
       "array([[0.87393975, 0.90272087, 0.87007856, 0.8614827 ],\n",
       "       [0.4273432 , 0.75912356, 0.593877  , 0.4718554 ],\n",
       "       [0.6430654 , 0.48883915, 0.50748605, 0.9832276 ]], dtype=float32)"
      ]
     },
     "execution_count": 32,
     "metadata": {},
     "output_type": "execute_result"
    }
   ],
   "source": [
    "# Convert tensor to numpy array\n",
    "tensor.numpy()"
   ]
  },
  {
   "cell_type": "code",
   "execution_count": 33,
   "metadata": {},
   "outputs": [
    {
     "data": {
      "text/plain": [
       "tensor([[0.0788, 0.9382, 0.1134, 0.1648],\n",
       "        [0.4984, 0.3085, 0.8413, 0.8414],\n",
       "        [0.9974, 0.4719, 0.7612, 0.4278]], dtype=torch.float64)"
      ]
     },
     "execution_count": 33,
     "metadata": {},
     "output_type": "execute_result"
    }
   ],
   "source": [
    "# Convert numpy array to tensor\n",
    "torch.from_numpy(np.random.random((3,4)))"
   ]
  },
  {
   "cell_type": "code",
   "execution_count": 34,
   "id": "a1777747",
   "metadata": {},
   "outputs": [
    {
     "name": "stdout",
     "output_type": "stream",
     "text": [
      "Last updated: 2025-08-11T04:02:28.797884+00:00\n",
      "\n",
      "Python implementation: CPython\n",
      "Python version       : 3.12.11\n",
      "IPython version      : 9.4.0\n",
      "\n",
      "Compiler    : GCC 12.2.0\n",
      "OS          : Linux\n",
      "Release     : 6.10.14-linuxkit\n",
      "Machine     : aarch64\n",
      "Processor   : \n",
      "CPU cores   : 7\n",
      "Architecture: 64bit\n",
      "\n"
     ]
    }
   ],
   "source": [
    "%watermark"
   ]
  },
  {
   "cell_type": "code",
   "execution_count": 35,
   "id": "630df768",
   "metadata": {},
   "outputs": [
    {
     "name": "stdout",
     "output_type": "stream",
     "text": [
      "numpy: 2.3.1\n",
      "torch: 2.7.1\n",
      "\n"
     ]
    }
   ],
   "source": [
    "%watermark -iv"
   ]
  }
 ],
 "metadata": {
  "kernelspec": {
   "display_name": ".venv",
   "language": "python",
   "name": "python3"
  },
  "language_info": {
   "codemirror_mode": {
    "name": "ipython",
    "version": 3
   },
   "file_extension": ".py",
   "mimetype": "text/x-python",
   "name": "python",
   "nbconvert_exporter": "python",
   "pygments_lexer": "ipython3",
   "version": "3.12.11"
  }
 },
 "nbformat": 4,
 "nbformat_minor": 5
}
