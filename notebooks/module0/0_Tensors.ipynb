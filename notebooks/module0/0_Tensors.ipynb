{
 "cells": [
  {
   "cell_type": "markdown",
   "id": "650940f2",
   "metadata": {},
   "source": [
    "# PyTorch: Learn the Basics\n",
    "\n",
    "* Tensors\n",
    "* Datasets & DataLoaders\n",
    "* Transforms\n",
    "* Build Model\n",
    "* Autograd\n",
    "* Optimization\n",
    "* Save & Load Model"
   ]
  },
  {
   "cell_type": "markdown",
   "id": "b8971e40",
   "metadata": {},
   "source": [
    "# Tensors\n",
    "\n",
    "Why this instead of numpy ndarrays? Tensors can run on GPUs. They can also be optimized for automatic differentiation.\n"
   ]
  },
  {
   "cell_type": "code",
   "execution_count": 121,
   "id": "d2633f72",
   "metadata": {},
   "outputs": [],
   "source": [
    "import torch\n",
    "import numpy as np"
   ]
  },
  {
   "cell_type": "code",
   "execution_count": 122,
   "id": "0e5cbc72",
   "metadata": {},
   "outputs": [],
   "source": [
    "%load_ext watermark"
   ]
  },
  {
   "cell_type": "markdown",
   "id": "e395f99f",
   "metadata": {},
   "source": [
    "## Initializing a tensor"
   ]
  },
  {
   "cell_type": "code",
   "execution_count": 2,
   "id": "95fced1c",
   "metadata": {},
   "outputs": [],
   "source": [
    "# directly from data\n",
    "data = [[1, 2],[3, 4]]\n",
    "x_data = torch.tensor(data)"
   ]
  },
  {
   "cell_type": "code",
   "execution_count": 3,
   "id": "c45540b3",
   "metadata": {},
   "outputs": [
    {
     "data": {
      "text/plain": [
       "torch.Tensor"
      ]
     },
     "execution_count": 3,
     "metadata": {},
     "output_type": "execute_result"
    }
   ],
   "source": [
    "type(x_data)"
   ]
  },
  {
   "cell_type": "code",
   "execution_count": 7,
   "id": "e1fee929",
   "metadata": {},
   "outputs": [],
   "source": [
    "# from a numpy array\n",
    "np_array = np.array(data)\n",
    "x_np = torch.from_numpy(np_array)"
   ]
  },
  {
   "cell_type": "code",
   "execution_count": 9,
   "id": "23c770e7",
   "metadata": {},
   "outputs": [
    {
     "name": "stdout",
     "output_type": "stream",
     "text": [
      "Ones Tensor: \n",
      " tensor([[1, 1],\n",
      "        [1, 1]]) \n",
      "\n"
     ]
    }
   ],
   "source": [
    "# creating new tensors from another tensor (e.g. maintains shape)\n",
    "x_ones = torch.ones_like(x_data) # retains the properties of x_data\n",
    "print(f\"Ones Tensor: \\n {x_ones} \\n\")\n"
   ]
  },
  {
   "cell_type": "code",
   "execution_count": 22,
   "id": "8b027526",
   "metadata": {},
   "outputs": [
    {
     "name": "stdout",
     "output_type": "stream",
     "text": [
      "Random Tensor: \n",
      " tensor([[0.2791, 0.5894],\n",
      "        [0.2706, 0.9686]]) \n",
      "\n"
     ]
    }
   ],
   "source": [
    "# a random tensor, values between 0 and 1\n",
    "x_rand = torch.rand_like(x_data, dtype=torch.float) # overrides the datatype of x_data\n",
    "print(f\"Random Tensor: \\n {x_rand} \\n\")"
   ]
  },
  {
   "cell_type": "code",
   "execution_count": 25,
   "id": "ff63bb9b",
   "metadata": {},
   "outputs": [
    {
     "name": "stdout",
     "output_type": "stream",
     "text": [
      "Zeros Tensor: \n",
      " tensor([[0., 0., 0.],\n",
      "        [0., 0., 0.]])\n",
      "Ones Tensor: \n",
      " tensor([[1., 1., 1.],\n",
      "        [1., 1., 1.]]) \n",
      "\n",
      "Random Tensor: \n",
      " tensor([[0.8237, 0.4671, 0.9021],\n",
      "        [0.8525, 0.0439, 0.2446]]) \n",
      "\n"
     ]
    }
   ],
   "source": [
    "# constant or random values\n",
    "shape = (2,3,)\n",
    "zeros_tensor = torch.zeros(shape)\n",
    "ones_tensor = torch.ones(shape)\n",
    "rand_tensor = torch.rand(shape)\n",
    "\n",
    "print(f\"Zeros Tensor: \\n {zeros_tensor}\")\n",
    "print(f\"Ones Tensor: \\n {ones_tensor} \\n\")\n",
    "print(f\"Random Tensor: \\n {rand_tensor} \\n\")\n"
   ]
  },
  {
   "cell_type": "markdown",
   "id": "afc0a926",
   "metadata": {},
   "source": [
    "## Attributes"
   ]
  },
  {
   "cell_type": "code",
   "execution_count": 32,
   "id": "f8f50f01",
   "metadata": {},
   "outputs": [
    {
     "name": "stdout",
     "output_type": "stream",
     "text": [
      "tensor([[0.2505, 0.4804, 0.4175, 0.0060],\n",
      "        [0.2331, 0.1359, 0.9607, 0.8692],\n",
      "        [0.5707, 0.8791, 0.7290, 0.4179]])\n",
      "Shape of tensor: torch.Size([3, 4])\n",
      "Datatype of tensor: torch.float32\n",
      "Device tensor is stored on: cpu\n"
     ]
    }
   ],
   "source": [
    "tensor = torch.rand(3,4)\n",
    "print(tensor)\n",
    "print(f\"Shape of tensor: {tensor.shape}\")\n",
    "print(f\"Datatype of tensor: {tensor.dtype}\")\n",
    "print(f\"Device tensor is stored on: {tensor.device}\")"
   ]
  },
  {
   "cell_type": "code",
   "execution_count": 52,
   "id": "f1c17869",
   "metadata": {},
   "outputs": [
    {
     "data": {
      "text/plain": [
       "['signbit',\n",
       " 'adjoint',\n",
       " 'aminmax',\n",
       " 'atanh',\n",
       " 'erfinv',\n",
       " 'kthvalue',\n",
       " 'cdouble',\n",
       " 'hardshrink',\n",
       " 'divide',\n",
       " 'pinverse',\n",
       " 'item',\n",
       " 'xlogy',\n",
       " 'arccos',\n",
       " 'svd',\n",
       " 'expand',\n",
       " 'flipud',\n",
       " 'movedim',\n",
       " 'chalf',\n",
       " 'long',\n",
       " 'equal']"
      ]
     },
     "execution_count": 52,
     "metadata": {},
     "output_type": "execute_result"
    }
   ],
   "source": [
    "# show some random attributes\n",
    "from random import sample\n",
    "sample([attribute for attribute in dir(tensor) if '_' not in attribute], 20)"
   ]
  },
  {
   "cell_type": "code",
   "execution_count": 53,
   "id": "9b479cc3",
   "metadata": {},
   "outputs": [
    {
     "data": {
      "text/plain": [
       "tensor([[0., 1., 0., 0.],\n",
       "        [1., 0., 1., 1.],\n",
       "        [0., 1., 1., 1.]])"
      ]
     },
     "execution_count": 53,
     "metadata": {},
     "output_type": "execute_result"
    }
   ],
   "source": [
    "tensor.bernoulli()"
   ]
  },
  {
   "cell_type": "markdown",
   "id": "1d2c8430",
   "metadata": {},
   "source": [
    "## Operations on Tensors\n",
    "\n",
    "While the tensors can be run on GPU, by default, they're created on the CPU. Operations can be run on CPU and an [Accelerator](https://docs.pytorch.org/docs/stable/torch.html#accelerators), a `torch.device` like [CUDA](https://docs.pytorch.org/docs/stable/cuda.html) or [MPS](https://docs.pytorch.org/docs/stable/mps.html).\n",
    "\n",
    "NOTE: To use GPU acceleration in a dev container:\n",
    "- Remote Server with NVIDIA GPU (CUDA): The most common and effective way to get GPU acceleration in a Dev Container is if your Dev Container is connected to a remote server that has an NVIDIA GPU. In this scenario, you would configure the Dev Container to expose that GPU to the container, and your code would use torch.device(\"cuda\"). This is a very popular setup for professional ML development.\n",
    "- Run locally, outside the container, to use MPS."
   ]
  },
  {
   "cell_type": "code",
   "execution_count": 62,
   "id": "94b2db1c",
   "metadata": {},
   "outputs": [
    {
     "name": "stdout",
     "output_type": "stream",
     "text": [
      "No GPU found, using CPU.\n"
     ]
    }
   ],
   "source": [
    "# Check if CUDA (NVIDIA GPU) is available\n",
    "if torch.cuda.is_available():\n",
    "    device = torch.device(\"cuda\")\n",
    "    print(f\"Using GPU: {torch.cuda.get_device_name(0)}\")\n",
    "# elif torch.mps.is_available():  # note this fails in a devcontainer run on mac because it's linux\n",
    "elif torch.backends.mps.is_available():\n",
    "    device = torch.device(\"mps\")\n",
    "    print(f\"Using MPS: {torch.mps.get_device_name(0)}\")\n",
    "else:\n",
    "    device = torch.device(\"cpu\")\n",
    "    print(\"No GPU found, using CPU.\")"
   ]
  },
  {
   "cell_type": "code",
   "execution_count": 54,
   "id": "fcb85bda",
   "metadata": {},
   "outputs": [],
   "source": [
    "# We move our tensor to the current accelerator if available\n",
    "if torch.accelerator.is_available():\n",
    "    tensor = tensor.to(torch.accelerator.current_accelerator())"
   ]
  },
  {
   "cell_type": "code",
   "execution_count": 65,
   "id": "e1783d85",
   "metadata": {},
   "outputs": [
    {
     "data": {
      "text/plain": [
       "tensor([[0.2505, 0.4804, 0.4175, 0.0060],\n",
       "        [0.2331, 0.1359, 0.9607, 0.8692],\n",
       "        [0.5707, 0.8791, 0.7290, 0.4179]])"
      ]
     },
     "execution_count": 65,
     "metadata": {},
     "output_type": "execute_result"
    }
   ],
   "source": [
    "tensor"
   ]
  },
  {
   "cell_type": "code",
   "execution_count": 68,
   "id": "89e6fe7e",
   "metadata": {},
   "outputs": [
    {
     "name": "stdout",
     "output_type": "stream",
     "text": [
      "tensor(0.2331)\n",
      "tensor([0.4175, 0.9607, 0.7290])\n"
     ]
    }
   ],
   "source": [
    "# standard indexing\n",
    "\n",
    "print(tensor[1,0])\n",
    "print(tensor[:, 2])"
   ]
  },
  {
   "cell_type": "code",
   "execution_count": 70,
   "id": "8133c41f",
   "metadata": {},
   "outputs": [
    {
     "name": "stdout",
     "output_type": "stream",
     "text": [
      "tensor([[0.2505, 0.4804, 0.4175, 0.0060, 0.2505, 0.4804, 0.4175, 0.0060, 0.2505,\n",
      "         0.4804, 0.4175, 0.0060],\n",
      "        [0.2331, 0.1359, 0.9607, 0.8692, 0.2331, 0.1359, 0.9607, 0.8692, 0.2331,\n",
      "         0.1359, 0.9607, 0.8692],\n",
      "        [0.5707, 0.8791, 0.7290, 0.4179, 0.5707, 0.8791, 0.7290, 0.4179, 0.5707,\n",
      "         0.8791, 0.7290, 0.4179]])\n"
     ]
    }
   ],
   "source": [
    "# joining tensors\n",
    "t1 = torch.cat([tensor, tensor, tensor], dim=1)\n",
    "print(t1)"
   ]
  },
  {
   "cell_type": "markdown",
   "id": "769ca7ff",
   "metadata": {},
   "source": [
    "Arithmetic operations"
   ]
  },
  {
   "cell_type": "code",
   "execution_count": null,
   "id": "f521fa57",
   "metadata": {},
   "outputs": [
    {
     "data": {
      "text/plain": [
       "tensor([[0.4679, 0.5300, 0.8722],\n",
       "        [0.5300, 1.7512, 1.3162],\n",
       "        [0.8722, 1.3162, 1.8048]])"
      ]
     },
     "execution_count": 73,
     "metadata": {},
     "output_type": "execute_result"
    }
   ],
   "source": [
    "# matrix multiplication, 3 options\n",
    "y1 = tensor @ tensor.T\n",
    "y1"
   ]
  },
  {
   "cell_type": "code",
   "execution_count": 74,
   "id": "b7adb269",
   "metadata": {},
   "outputs": [
    {
     "data": {
      "text/plain": [
       "tensor([[0.4679, 0.5300, 0.8722],\n",
       "        [0.5300, 1.7512, 1.3162],\n",
       "        [0.8722, 1.3162, 1.8048]])"
      ]
     },
     "execution_count": 74,
     "metadata": {},
     "output_type": "execute_result"
    }
   ],
   "source": [
    "y2 = tensor.matmul(tensor.T)\n",
    "y2"
   ]
  },
  {
   "cell_type": "code",
   "execution_count": null,
   "id": "e35a1e81",
   "metadata": {},
   "outputs": [
    {
     "data": {
      "text/plain": [
       "tensor([[0.4437, 0.4634, 0.6674],\n",
       "        [0.0069, 0.6388, 0.2411],\n",
       "        [0.8581, 0.1487, 0.6242]])"
      ]
     },
     "execution_count": 80,
     "metadata": {},
     "output_type": "execute_result"
    }
   ],
   "source": [
    "# randomize in the shape of y1\n",
    "y3 = torch.rand_like(y1)\n",
    "y3"
   ]
  },
  {
   "cell_type": "code",
   "execution_count": null,
   "id": "6317493e",
   "metadata": {},
   "outputs": [
    {
     "data": {
      "text/plain": [
       "tensor([[0.4679, 0.5300, 0.8722],\n",
       "        [0.5300, 1.7512, 1.3162],\n",
       "        [0.8722, 1.3162, 1.8048]])"
      ]
     },
     "execution_count": 81,
     "metadata": {},
     "output_type": "execute_result"
    }
   ],
   "source": [
    "# note the `out`\n",
    "torch.matmul(tensor, tensor.T, out=y3)"
   ]
  },
  {
   "cell_type": "code",
   "execution_count": null,
   "id": "2ff9385a",
   "metadata": {},
   "outputs": [
    {
     "data": {
      "text/plain": [
       "tensor([[0.4679, 0.5300, 0.8722],\n",
       "        [0.5300, 1.7512, 1.3162],\n",
       "        [0.8722, 1.3162, 1.8048]])"
      ]
     },
     "execution_count": 82,
     "metadata": {},
     "output_type": "execute_result"
    }
   ],
   "source": [
    "# y3 gets overwritten\n",
    "y3"
   ]
  },
  {
   "cell_type": "code",
   "execution_count": 95,
   "id": "97bf3791",
   "metadata": {},
   "outputs": [
    {
     "data": {
      "text/plain": [
       "True"
      ]
     },
     "execution_count": 95,
     "metadata": {},
     "output_type": "execute_result"
    }
   ],
   "source": [
    "# y1 == y2  # will fail\n",
    "\n",
    "# test for content and shape\n",
    "torch.equal(y1, y2)"
   ]
  },
  {
   "cell_type": "code",
   "execution_count": 96,
   "id": "b5393e8b",
   "metadata": {},
   "outputs": [
    {
     "data": {
      "text/plain": [
       "tensor(True)"
      ]
     },
     "execution_count": 96,
     "metadata": {},
     "output_type": "execute_result"
    }
   ],
   "source": [
    "# == element wise comparison\n",
    "torch.all(y1 == y2) # analagous to np.all"
   ]
  },
  {
   "cell_type": "code",
   "execution_count": 98,
   "id": "823fbb70",
   "metadata": {},
   "outputs": [],
   "source": [
    "# test if all 3 are equal\n",
    "assert torch.equal(y1, y2) and torch.equal(y2, y3)"
   ]
  },
  {
   "cell_type": "code",
   "execution_count": 99,
   "id": "647f9e68",
   "metadata": {},
   "outputs": [
    {
     "data": {
      "text/plain": [
       "tensor([[6.2736e-02, 2.3083e-01, 1.7430e-01, 3.6021e-05],\n",
       "        [5.4333e-02, 1.8469e-02, 9.2296e-01, 7.5548e-01],\n",
       "        [3.2569e-01, 7.7290e-01, 5.3151e-01, 1.7467e-01]])"
      ]
     },
     "execution_count": 99,
     "metadata": {},
     "output_type": "execute_result"
    }
   ],
   "source": [
    "# Element-wise product, also 3 options\n",
    "z1 = tensor * tensor\n",
    "z2 = tensor.mul(tensor)\n",
    "\n",
    "z3 = torch.rand_like(tensor)\n",
    "torch.mul(tensor, tensor, out=z3)"
   ]
  },
  {
   "cell_type": "code",
   "execution_count": 100,
   "id": "c0966b3b",
   "metadata": {},
   "outputs": [],
   "source": [
    "assert torch.equal(z1, z2) and torch.equal(z2, z3)"
   ]
  },
  {
   "cell_type": "code",
   "execution_count": null,
   "id": "cd8612f9",
   "metadata": {},
   "outputs": [
    {
     "data": {
      "text/plain": [
       "tensor(5.9501)"
      ]
     },
     "execution_count": 102,
     "metadata": {},
     "output_type": "execute_result"
    }
   ],
   "source": [
    "# convert a single element tensor into a python numerical value\n",
    "tensor.sum()"
   ]
  },
  {
   "cell_type": "code",
   "execution_count": 104,
   "id": "6a51bb4c",
   "metadata": {},
   "outputs": [
    {
     "name": "stdout",
     "output_type": "stream",
     "text": [
      "5.950121879577637 <class 'float'>\n"
     ]
    }
   ],
   "source": [
    "print(tensor.sum().item(), type(tensor.sum().item()))"
   ]
  },
  {
   "cell_type": "code",
   "execution_count": null,
   "id": "11fff4f6",
   "metadata": {},
   "outputs": [],
   "source": []
  },
  {
   "cell_type": "markdown",
   "id": "81c0ce8c",
   "metadata": {},
   "source": [
    "## Bridge with NumPy\n",
    "\n",
    "Move to/from numpy array with `.numpy()` and `torch.from_numpy(x)`"
   ]
  },
  {
   "cell_type": "code",
   "execution_count": 117,
   "id": "579cd5b0",
   "metadata": {},
   "outputs": [
    {
     "data": {
      "text/plain": [
       "array([[5.2504706, 5.4804497, 5.417492 , 5.006002 ],\n",
       "       [5.2330947, 5.1359005, 5.960708 , 5.8691816],\n",
       "       [5.5706916, 5.879149 , 5.7290444, 5.4179378]], dtype=float32)"
      ]
     },
     "execution_count": 117,
     "metadata": {},
     "output_type": "execute_result"
    }
   ],
   "source": [
    "# Convert tensor to numpy array\n",
    "tensor.numpy()"
   ]
  },
  {
   "cell_type": "code",
   "execution_count": 115,
   "metadata": {},
   "outputs": [
    {
     "data": {
      "text/plain": [
       "tensor([[0.4286, 0.0684, 0.5026, 0.9145],\n",
       "        [0.8174, 0.0451, 0.3830, 0.1587],\n",
       "        [0.1986, 0.6687, 0.3983, 0.3684]], dtype=torch.float64)"
      ]
     },
     "execution_count": 115,
     "metadata": {},
     "output_type": "execute_result"
    }
   ],
   "source": [
    "# Convert numpy array to tensor\n",
    "torch.from_numpy(np.random.random((3,4)))"
   ]
  },
  {
   "cell_type": "markdown",
   "id": "88bc1b4c",
   "metadata": {},
   "source": [
    "# Datasets and Dataloaders"
   ]
  },
  {
   "cell_type": "code",
   "execution_count": null,
   "id": "b352c529",
   "metadata": {},
   "outputs": [],
   "source": []
  },
  {
   "cell_type": "code",
   "execution_count": null,
   "id": "5e81044b",
   "metadata": {},
   "outputs": [],
   "source": []
  },
  {
   "cell_type": "code",
   "execution_count": null,
   "id": "473f0bc2",
   "metadata": {},
   "outputs": [],
   "source": []
  },
  {
   "cell_type": "code",
   "execution_count": null,
   "id": "bef40bef",
   "metadata": {},
   "outputs": [],
   "source": []
  },
  {
   "cell_type": "code",
   "execution_count": null,
   "id": "632d7176",
   "metadata": {},
   "outputs": [],
   "source": []
  },
  {
   "cell_type": "code",
   "execution_count": 123,
   "id": "a1777747",
   "metadata": {},
   "outputs": [
    {
     "name": "stdout",
     "output_type": "stream",
     "text": [
      "Last updated: 2025-08-06T23:14:48.207516+00:00\n",
      "\n",
      "Python implementation: CPython\n",
      "Python version       : 3.12.11\n",
      "IPython version      : 9.4.0\n",
      "\n",
      "Compiler    : GCC 12.2.0\n",
      "OS          : Linux\n",
      "Release     : 6.10.14-linuxkit\n",
      "Machine     : aarch64\n",
      "Processor   : \n",
      "CPU cores   : 7\n",
      "Architecture: 64bit\n",
      "\n"
     ]
    }
   ],
   "source": [
    "%watermark"
   ]
  },
  {
   "cell_type": "code",
   "execution_count": 124,
   "id": "630df768",
   "metadata": {},
   "outputs": [
    {
     "name": "stdout",
     "output_type": "stream",
     "text": [
      "numpy    : 2.3.1\n",
      "torch    : 2.7.1\n",
      "watermark: 2.5.0\n",
      "\n"
     ]
    }
   ],
   "source": [
    "%watermark -iv"
   ]
  }
 ],
 "metadata": {
  "kernelspec": {
   "display_name": ".venv",
   "language": "python",
   "name": "python3"
  },
  "language_info": {
   "codemirror_mode": {
    "name": "ipython",
    "version": 3
   },
   "file_extension": ".py",
   "mimetype": "text/x-python",
   "name": "python",
   "nbconvert_exporter": "python",
   "pygments_lexer": "ipython3",
   "version": "3.12.11"
  }
 },
 "nbformat": 4,
 "nbformat_minor": 5
}
