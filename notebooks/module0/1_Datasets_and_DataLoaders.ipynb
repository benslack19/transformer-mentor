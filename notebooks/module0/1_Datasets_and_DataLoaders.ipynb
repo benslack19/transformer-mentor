{
 "cells": [
  {
   "cell_type": "markdown",
   "id": "650940f2",
   "metadata": {},
   "source": [
    "# Datasets & DataLoaders\n",
    "\n",
    "- `Dataset`: stores samples and corresponding labels\n",
    "- `DataLoader`: wraps an iterable around the `Dataset` to enable easy access to samples\n",
    "\n",
    "Here, we'll use the `FashionMNIST` dataset per the online tutorial. Note that I was looking into a text example but `torchtext` development has [stopped](https://github.com/pytorch/text/issues/2250).\n",
    "\n"
   ]
  },
  {
   "cell_type": "code",
   "execution_count": null,
   "id": "16d56863",
   "metadata": {},
   "outputs": [],
   "source": [
    "import os\n",
    "\n",
    "import matplotlib.pyplot as plt\n",
    "import torch\n",
    "from torch.utils.data import Dataset\n",
    "from torchvision import datasets\n",
    "from torchvision.transforms import ToTensor"
   ]
  },
  {
   "cell_type": "markdown",
   "id": "b8971e40",
   "metadata": {},
   "source": [
    "# Loading a Dataset\n",
    "\n",
    "Fashion-MNIST is a dataset of Zalando’s article images consisting of 60,000 training examples and 10,000 test examples. Each example comprises a 28×28 grayscale image and an associated label from one of 10 classes.\n",
    "\n",
    "- `root`: the path where the train/test data is stored\n",
    "- `train`: specifies training or test dataset\n",
    "- `download=True`: downloads the data if it's not available at root\n",
    "- `transform` and `target_trasnsform` specify feature and label transformations\n"
   ]
  },
  {
   "cell_type": "code",
   "execution_count": 3,
   "id": "0e5cbc72",
   "metadata": {},
   "outputs": [],
   "source": [
    "%load_ext watermark"
   ]
  },
  {
   "cell_type": "code",
   "execution_count": null,
   "id": "fb9e5bb2",
   "metadata": {},
   "outputs": [
    {
     "name": "stderr",
     "output_type": "stream",
     "text": [
      "100%|██████████| 26.4M/26.4M [00:03<00:00, 7.78MB/s]\n",
      "100%|██████████| 29.5k/29.5k [00:00<00:00, 189kB/s]\n",
      "100%|██████████| 4.42M/4.42M [00:01<00:00, 3.37MB/s]\n",
      "100%|██████████| 5.15k/5.15k [00:00<00:00, 10.2MB/s]\n"
     ]
    }
   ],
   "source": [
    "DATA_DIR=\"../local_data/transformer-mentor_data\"\n",
    "\n",
    "training_data = datasets.FashionMNIST(\n",
    "    root=DATA_DIR,\n",
    "    train=True,\n",
    "    download=True,\n",
    "    transform=ToTensor()\n",
    ")\n",
    "\n",
    "test_data = datasets.FashionMNIST(\n",
    "    root=DATA_DIR,\n",
    "    train=False,\n",
    "    download=True,\n",
    "    transform=ToTensor()\n",
    ")"
   ]
  },
  {
   "cell_type": "markdown",
   "id": "e395f99f",
   "metadata": {},
   "source": [
    "# Iterating and Visualizing the Dataset"
   ]
  },
  {
   "cell_type": "code",
   "execution_count": 49,
   "id": "c6addfa1",
   "metadata": {},
   "outputs": [
    {
     "data": {
      "text/plain": [
       "torchvision.datasets.mnist.FashionMNIST"
      ]
     },
     "execution_count": 49,
     "metadata": {},
     "output_type": "execute_result"
    }
   ],
   "source": [
    "type(training_data)"
   ]
  },
  {
   "cell_type": "code",
   "execution_count": 38,
   "id": "e7828db2",
   "metadata": {},
   "outputs": [
    {
     "data": {
      "text/plain": [
       "torch.Size([1, 28, 28])"
      ]
     },
     "execution_count": 38,
     "metadata": {},
     "output_type": "execute_result"
    }
   ],
   "source": [
    "# first training set example, first element of tuple is a tensor\n",
    "training_data[0][0].shape\n"
   ]
  },
  {
   "cell_type": "code",
   "execution_count": null,
   "id": "d32304e8",
   "metadata": {},
   "outputs": [
    {
     "data": {
      "text/plain": [
       "9"
      ]
     },
     "execution_count": 39,
     "metadata": {},
     "output_type": "execute_result"
    }
   ],
   "source": [
    "# first training set example, second element of tuple is the label (int)\n",
    "training_data[0][1]"
   ]
  },
  {
   "cell_type": "code",
   "execution_count": 9,
   "id": "91cc3863",
   "metadata": {},
   "outputs": [
    {
     "data": {
      "image/png": "[encoded data removed]",
      "text/plain": [
       "<Figure size 800x800 with 9 Axes>"
      ]
     },
     "metadata": {},
     "output_type": "display_data"
    }
   ],
   "source": [
    "labels_map = {\n",
    "    0: \"T-Shirt\",\n",
    "    1: \"Trouser\",\n",
    "    2: \"Pullover\",\n",
    "    3: \"Dress\",\n",
    "    4: \"Coat\",\n",
    "    5: \"Sandal\",\n",
    "    6: \"Shirt\",\n",
    "    7: \"Sneaker\",\n",
    "    8: \"Bag\",\n",
    "    9: \"Ankle Boot\",\n",
    "}\n",
    "figure = plt.figure(figsize=(8, 8))\n",
    "cols, rows = 3, 3\n",
    "for i in range(1, cols * rows + 1):\n",
    "    sample_idx = torch.randint(len(training_data), size=(1,)).item()\n",
    "    img, label = training_data[sample_idx]\n",
    "    figure.add_subplot(rows, cols, i)\n",
    "    plt.title(labels_map[label])\n",
    "    plt.axis(\"off\")\n",
    "    plt.imshow(img.squeeze(), cmap=\"gray\")\n",
    "plt.show()"
   ]
  },
  {
   "cell_type": "code",
   "execution_count": null,
   "id": "dcdfad33",
   "metadata": {},
   "outputs": [
    {
     "name": "stdout",
     "output_type": "stream",
     "text": [
      "Data directory contents: ['FashionMNIST']\n",
      "FashionMNIST contents: ['raw']\n"
     ]
    }
   ],
   "source": [
    "# verify saving of data with `download=True`\n",
    "\n",
    "if os.path.exists(DATA_DIR):\n",
    "    print(\"Data directory contents:\", os.listdir(DATA_DIR))\n",
    "    if os.path.exists('data/FashionMNIST'):\n",
    "        print(\"FashionMNIST contents:\", os.listdir(os.path.join(DATA_DIR, 'FashionMNIST')))\n",
    "else:\n",
    "    print(\"Data directory not found!\")"
   ]
  },
  {
   "cell_type": "code",
   "execution_count": null,
   "id": "d202cd49",
   "metadata": {},
   "outputs": [
    {
     "data": {
      "text/plain": [
       "tensor([34250])"
      ]
     },
     "execution_count": 32,
     "metadata": {},
     "output_type": "execute_result"
    }
   ],
   "source": [
    "# `size=(1,)` makes it so that it is only one []\n",
    "torch.randint(len(training_data), size=(1,))"
   ]
  },
  {
   "cell_type": "code",
   "execution_count": 41,
   "id": "181ca150",
   "metadata": {},
   "outputs": [
    {
     "data": {
      "text/plain": [
       "22612"
      ]
     },
     "execution_count": 41,
     "metadata": {},
     "output_type": "execute_result"
    }
   ],
   "source": [
    "# .item() makes it a regular python int\n",
    "torch.randint(len(training_data), size=(1,)).item()"
   ]
  },
  {
   "cell_type": "markdown",
   "id": "afc0a926",
   "metadata": {},
   "source": [
    "# Creating a Custom Dataset for your files\n",
    "\n",
    "Three functions required for the class:\n",
    "- `__init__`\n",
    "- `__len__`\n",
    "- `__getitem__`"
   ]
  },
  {
   "cell_type": "code",
   "execution_count": null,
   "id": "088d4a77",
   "metadata": {},
   "outputs": [],
   "source": [
    "import os\n",
    "import pandas as pd\n",
    "from torchvision.io import decode_image\n",
    "\n",
    "class CustomImageDataset(Dataset):\n",
    "    def __init__(self, annotations_file: str, img_dir: str, transform=None, target_transform=None):\n",
    "        \"\"\"Instantiate the Dataset object.\n",
    "        Initialize the directory containing images, the annotation file, and transforms.\n",
    "\n",
    "        `labels.csv` file looks like this:\n",
    "        tshirt1.jpg, 0\n",
    "        tshirt2.jpg, 0\n",
    "        ......\n",
    "        ankleboot999.jpg, 9\n",
    "\n",
    "        See here for possible `transform` optionss: https://docs.pytorch.org/vision/0.9/transforms.html\n",
    "        Possible `target_transform` include string to label (e.g. {'cat': 0, 'dog': 1, 'bird': 2},\n",
    "            or one-hot encoding\n",
    "        \"\"\"\n",
    "        self.img_labels = pd.read_csv(annotations_file)\n",
    "        self.img_dir = img_dir\n",
    "        self.transform = transform\n",
    "        self.target_transform = target_transform\n",
    "\n",
    "    def __len__(self):\n",
    "        \"\"\"Returns the number of samples in the dataset.\"\"\"\n",
    "        return len(self.img_labels)\n",
    "\n",
    "    def __getitem__(self, idx: int) -> tuple:\n",
    "        \"\"\"Load and return a sample at the given `idx`.\"\"\"\n",
    "\n",
    "        img_path = os.path.join(self.img_dir, self.img_labels.iloc[idx, 0])\n",
    "        image = decode_image(img_path)  # converts to a tensor\n",
    "        label = self.img_labels.iloc[idx, 1]\n",
    "        if self.transform:\n",
    "            image = self.transform(image)\n",
    "        if self.target_transform:\n",
    "            label = self.target_transform(label)\n",
    "        return image, label"
   ]
  },
  {
   "cell_type": "markdown",
   "id": "81c0ce8c",
   "metadata": {},
   "source": [
    "# Preparing your data for training with DataLoaders\n",
    "\n",
    "`Dataset` retrieves features and labels one sample at a time. During training, obtaining samples in \"minibatches\", reshuffling to reduce overfitting, and using Python `multiprocessing` to speed up retrieval is facilitated by `DataLoader`."
   ]
  },
  {
   "cell_type": "code",
   "execution_count": 1,
   "id": "890e8d28",
   "metadata": {},
   "outputs": [
    {
     "ename": "NameError",
     "evalue": "name 'training_data' is not defined",
     "output_type": "error",
     "traceback": [
      "\u001b[31m---------------------------------------------------------------------------\u001b[39m",
      "\u001b[31mNameError\u001b[39m                                 Traceback (most recent call last)",
      "\u001b[36mCell\u001b[39m\u001b[36m \u001b[39m\u001b[32mIn[1]\u001b[39m\u001b[32m, line 3\u001b[39m\n\u001b[32m      1\u001b[39m \u001b[38;5;28;01mfrom\u001b[39;00m\u001b[38;5;250m \u001b[39m\u001b[34;01mtorch\u001b[39;00m\u001b[34;01m.\u001b[39;00m\u001b[34;01mutils\u001b[39;00m\u001b[34;01m.\u001b[39;00m\u001b[34;01mdata\u001b[39;00m\u001b[38;5;250m \u001b[39m\u001b[38;5;28;01mimport\u001b[39;00m DataLoader\n\u001b[32m----> \u001b[39m\u001b[32m3\u001b[39m train_dataloader = DataLoader(\u001b[43mtraining_data\u001b[49m, batch_size=\u001b[32m64\u001b[39m, shuffle=\u001b[38;5;28;01mTrue\u001b[39;00m)\n\u001b[32m      4\u001b[39m test_dataloader = DataLoader(test_data, batch_size=\u001b[32m64\u001b[39m, shuffle=\u001b[38;5;28;01mTrue\u001b[39;00m)\n",
      "\u001b[31mNameError\u001b[39m: name 'training_data' is not defined"
     ]
    }
   ],
   "source": [
    "from torch.utils.data import DataLoader\n",
    "\n",
    "train_dataloader = DataLoader(training_data, batch_size=64, shuffle=True)\n",
    "test_dataloader = DataLoader(test_data, batch_size=64, shuffle=True)"
   ]
  },
  {
   "cell_type": "markdown",
   "id": "88bc1b4c",
   "metadata": {},
   "source": [
    "# Iterate through the DataLoader\n",
    "\n",
    "After loading into `DataLoader` we can iterate through the dataset as needed. Each iteration returns a batch of training samples (`train_features` and corresponding `train_labels`). We specified `batch_size=64` above so therefore there will be 64 samples in each, and each batch will be shuffled.\n",
    "\n",
    "NOTE: The optimal batch size is determined through a combination of hardware constraints, training dynamics, and empirical testing.\n",
    "```\n",
    "# Start with the largest batch size your GPU can handle\n",
    "# Common approach: double batch size until you get OOM error, then use ~75% of max\n",
    "batch_sizes_to_try = [32, 64, 128, 256, 512, 1024]\n",
    "```"
   ]
  },
  {
   "cell_type": "code",
   "execution_count": 67,
   "id": "b352c529",
   "metadata": {},
   "outputs": [
    {
     "name": "stdout",
     "output_type": "stream",
     "text": [
      "Feature batch shape: torch.Size([64, 1, 28, 28])\n",
      "Labels batch shape: torch.Size([64])\n",
      "\n",
      "Show first example from a batch:\n"
     ]
    },
    {
     "data": {
      "image/png": "[encoded data removed]",
      "text/plain": [
       "<Figure size 640x480 with 1 Axes>"
      ]
     },
     "metadata": {},
     "output_type": "display_data"
    },
    {
     "name": "stdout",
     "output_type": "stream",
     "text": [
      "Label: 8\n"
     ]
    }
   ],
   "source": [
    "# Display image and label.\n",
    "train_features, train_labels = next(iter(train_dataloader))\n",
    "print(f\"Feature batch shape: {train_features.size()}\")\n",
    "print(f\"Labels batch shape: {train_labels.size()}\")\n",
    "img = train_features[0].squeeze()\n",
    "label = train_labels[0]\n",
    "print(f\"\\nShow first example from a batch:\")\n",
    "plt.imshow(img, cmap=\"gray\")\n",
    "plt.show()\n",
    "print(f\"Label: {label}\")"
   ]
  },
  {
   "cell_type": "code",
   "execution_count": 68,
   "id": "b4472c95",
   "metadata": {},
   "outputs": [
    {
     "data": {
      "text/plain": [
       "tensor([8, 1, 9, 0, 1, 6, 6, 2, 2, 2, 2, 2, 6, 3, 2, 5, 7, 4, 2, 9, 3, 0, 7, 7,\n",
       "        4, 5, 6, 3, 8, 3, 4, 6, 9, 8, 5, 0, 6, 2, 7, 7, 9, 9, 7, 0, 5, 4, 1, 3,\n",
       "        2, 5, 9, 5, 8, 1, 2, 1, 5, 3, 2, 1, 6, 3, 4, 1])"
      ]
     },
     "execution_count": 68,
     "metadata": {},
     "output_type": "execute_result"
    }
   ],
   "source": [
    "# Labels from a batch\n",
    "train_labels"
   ]
  },
  {
   "cell_type": "code",
   "execution_count": null,
   "id": "f10f3e20",
   "metadata": {},
   "outputs": [
    {
     "name": "stdout",
     "output_type": "stream",
     "text": [
      "Data directory contents: ['FashionMNIST']\n",
      "FashionMNIST contents: ['raw']\n"
     ]
    }
   ],
   "source": [
    "# verify saving of data with `download=True`\n",
    "\n",
    "if os.path.exists(DATA_DIR):\n",
    "    print(\"Data directory contents:\", os.listdir(DATA_DIR))\n",
    "    if os.path.exists('data/FashionMNIST'):\n",
    "        print(\"FashionMNIST contents:\", os.listdir(os.path.join(DATA_DIR, 'FashionMNIST')))\n",
    "else:\n",
    "    print(\"Data directory not found!\")"
   ]
  },
  {
   "cell_type": "code",
   "execution_count": 4,
   "id": "a1777747",
   "metadata": {},
   "outputs": [
    {
     "name": "stdout",
     "output_type": "stream",
     "text": [
      "Last updated: 2025-08-10T00:17:39.302246+00:00\n",
      "\n",
      "Python implementation: CPython\n",
      "Python version       : 3.12.11\n",
      "IPython version      : 9.4.0\n",
      "\n",
      "Compiler    : GCC 12.2.0\n",
      "OS          : Linux\n",
      "Release     : 6.10.14-linuxkit\n",
      "Machine     : aarch64\n",
      "Processor   : \n",
      "CPU cores   : 7\n",
      "Architecture: 64bit\n",
      "\n"
     ]
    }
   ],
   "source": [
    "%watermark"
   ]
  },
  {
   "cell_type": "code",
   "execution_count": 5,
   "id": "630df768",
   "metadata": {},
   "outputs": [
    {
     "name": "stdout",
     "output_type": "stream",
     "text": [
      "torch      : 2.7.1\n",
      "torchvision: 0.22.1\n",
      "matplotlib : 3.10.3\n",
      "\n"
     ]
    }
   ],
   "source": [
    "%watermark -iv"
   ]
  }
 ],
 "metadata": {
  "kernelspec": {
   "display_name": ".venv",
   "language": "python",
   "name": "python3"
  },
  "language_info": {
   "codemirror_mode": {
    "name": "ipython",
    "version": 3
   },
   "file_extension": ".py",
   "mimetype": "text/x-python",
   "name": "python",
   "nbconvert_exporter": "python",
   "pygments_lexer": "ipython3",
   "version": "3.12.11"
  }
 },
 "nbformat": 4,
 "nbformat_minor": 5
}
