{
 "cells": [
  {
   "cell_type": "markdown",
   "id": "650940f2",
   "metadata": {},
   "source": [
    "# Transforms\n",
    "\n",
    "This is taking the data and putting it into the processed forms for the models (e.g. text to numbers or more speciically tensors). \n",
    "\n",
    "- `transform`: modify the features (x)\n",
    "- `target_transform`: modify the labels (y)\n",
    "\n",
    "The [`torchvision.transforms`](https://docs.pytorch.org/vision/stable/transforms.html) module offers several commonly-used transforms out of the box.\n"
   ]
  },
  {
   "cell_type": "code",
   "execution_count": null,
   "id": "16d56863",
   "metadata": {},
   "outputs": [],
   "source": [
    "import os\n",
    "\n",
    "import numpy as np\n",
    "import torch\n",
    "from torchvision import datasets\n",
    "from torchvision.transforms import Lambda, ToTensor\n"
   ]
  },
  {
   "cell_type": "code",
   "execution_count": null,
   "id": "ad8ef296",
   "metadata": {},
   "outputs": [],
   "source": [
    "%load_ext watermark"
   ]
  },
  {
   "cell_type": "markdown",
   "id": "b8971e40",
   "metadata": {},
   "source": [
    "# Load data\n",
    "\n",
    "The FashionMNIST features are in PIL Image format, and the labels are integers. We want:\n",
    "- features: PIL Image format > normalized tensors\n",
    "- labels: integers > one-hot encoded tensors\n",
    "\n",
    "Normalized tensor: Values have been scaled, typically to 0 and 1 (i.e. not a unit vector but provides some similar advantages practically). This supports:\n",
    "- training stability: inputs are in smaller, more consistent ranges\n",
    "- gradient flow: helps prevent vanishing/exploding gradients (gradient can shrink or explode across layers, leading to later layers getting big/small updates, respectively)\n",
    "- optimization efficiency: loss landscape is smoother for optimizers"
   ]
  },
  {
   "cell_type": "code",
   "execution_count": null,
   "id": "fb9e5bb2",
   "metadata": {},
   "outputs": [],
   "source": [
    "DATA_DIR=\"../local_data/transformer-mentor_data\"\n",
    "\n",
    "ds = datasets.FashionMNIST(\n",
    "    root=DATA_DIR,\n",
    "    train=True,\n",
    "    download=True,\n",
    "    transform=ToTensor(),\n",
    "    target_transform=Lambda(lambda y: torch.zeros(10, dtype=torch.float).scatter_(0, torch.tensor(y), value=1))\n",
    ")\n"
   ]
  },
  {
   "cell_type": "markdown",
   "id": "e395f99f",
   "metadata": {},
   "source": [
    "# `ToTensor()`\n",
    "\n",
    "Converts a PIL image or NumPy `ndarray` to a `FloatTensor` and scales the image's pixel intensity values in the range `[0., 1.]`."
   ]
  },
  {
   "cell_type": "code",
   "execution_count": null,
   "id": "5dace6e2",
   "metadata": {},
   "outputs": [],
   "source": []
  },
  {
   "cell_type": "code",
   "execution_count": null,
   "id": "a5631852",
   "metadata": {},
   "outputs": [],
   "source": []
  },
  {
   "cell_type": "code",
   "execution_count": null,
   "id": "2f45376a",
   "metadata": {},
   "outputs": [],
   "source": []
  },
  {
   "cell_type": "code",
   "execution_count": null,
   "id": "69011301",
   "metadata": {},
   "outputs": [],
   "source": []
  },
  {
   "cell_type": "code",
   "execution_count": null,
   "id": "7777fa94",
   "metadata": {},
   "outputs": [],
   "source": []
  },
  {
   "cell_type": "code",
   "execution_count": null,
   "id": "13ad620a",
   "metadata": {},
   "outputs": [],
   "source": []
  },
  {
   "cell_type": "code",
   "execution_count": 1,
   "id": "a1777747",
   "metadata": {},
   "outputs": [
    {
     "name": "stderr",
     "output_type": "stream",
     "text": [
      "UsageError: Line magic function `%watermark` not found.\n"
     ]
    }
   ],
   "source": [
    "%watermark"
   ]
  },
  {
   "cell_type": "code",
   "execution_count": 5,
   "id": "630df768",
   "metadata": {},
   "outputs": [
    {
     "name": "stdout",
     "output_type": "stream",
     "text": [
      "torch      : 2.7.1\n",
      "torchvision: 0.22.1\n",
      "matplotlib : 3.10.3\n",
      "\n"
     ]
    }
   ],
   "source": [
    "%watermark -iv"
   ]
  }
 ],
 "metadata": {
  "kernelspec": {
   "display_name": ".venv",
   "language": "python",
   "name": "python3"
  },
  "language_info": {
   "codemirror_mode": {
    "name": "ipython",
    "version": 3
   },
   "file_extension": ".py",
   "mimetype": "text/x-python",
   "name": "python",
   "nbconvert_exporter": "python",
   "pygments_lexer": "ipython3",
   "version": "3.12.11"
  }
 },
 "nbformat": 4,
 "nbformat_minor": 5
}
